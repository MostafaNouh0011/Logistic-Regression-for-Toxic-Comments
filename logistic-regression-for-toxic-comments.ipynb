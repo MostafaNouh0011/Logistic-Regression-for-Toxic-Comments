{
 "cells": [
  {
   "cell_type": "markdown",
   "id": "7fe8f5b2",
   "metadata": {
    "papermill": {
     "duration": 0.01212,
     "end_time": "2023-11-07T19:20:16.564834",
     "exception": false,
     "start_time": "2023-11-07T19:20:16.552714",
     "status": "completed"
    },
    "tags": []
   },
   "source": [
    "# Load Dependencies"
   ]
  },
  {
   "cell_type": "code",
   "execution_count": 1,
   "id": "01851fc4",
   "metadata": {
    "execution": {
     "iopub.execute_input": "2023-11-07T19:20:16.589493Z",
     "iopub.status.busy": "2023-11-07T19:20:16.589142Z",
     "iopub.status.idle": "2023-11-07T19:20:24.867846Z",
     "shell.execute_reply": "2023-11-07T19:20:24.867020Z"
    },
    "papermill": {
     "duration": 8.29363,
     "end_time": "2023-11-07T19:20:24.870205",
     "exception": false,
     "start_time": "2023-11-07T19:20:16.576575",
     "status": "completed"
    },
    "tags": []
   },
   "outputs": [
    {
     "name": "stderr",
     "output_type": "stream",
     "text": [
      "/opt/conda/lib/python3.10/site-packages/scipy/__init__.py:146: UserWarning: A NumPy version >=1.16.5 and <1.23.0 is required for this version of SciPy (detected version 1.23.5\n",
      "  warnings.warn(f\"A NumPy version >={np_minversion} and <{np_maxversion}\"\n"
     ]
    }
   ],
   "source": [
    "import os \n",
    "import pandas as pd\n",
    "import numpy as np\n",
    "import tensorflow as tf\n",
    "\n",
    "from tensorflow.keras.layers import TextVectorization\n",
    "\n",
    "from tensorflow.keras.models import Sequential\n",
    "from tensorflow.keras.layers import Embedding, LSTM, Bidirectional, Dense\n",
    "\n",
    "from tensorflow.keras.metrics import Precision, Recall"
   ]
  },
  {
   "cell_type": "markdown",
   "id": "5a8f572c",
   "metadata": {
    "papermill": {
     "duration": 0.012293,
     "end_time": "2023-11-07T19:20:24.895456",
     "exception": false,
     "start_time": "2023-11-07T19:20:24.883163",
     "status": "completed"
    },
    "tags": []
   },
   "source": [
    "# Load and Explore Data"
   ]
  },
  {
   "cell_type": "code",
   "execution_count": 2,
   "id": "cb1a667c",
   "metadata": {
    "execution": {
     "iopub.execute_input": "2023-11-07T19:20:24.921211Z",
     "iopub.status.busy": "2023-11-07T19:20:24.920229Z",
     "iopub.status.idle": "2023-11-07T19:20:24.925034Z",
     "shell.execute_reply": "2023-11-07T19:20:24.924102Z"
    },
    "papermill": {
     "duration": 0.01985,
     "end_time": "2023-11-07T19:20:24.927110",
     "exception": false,
     "start_time": "2023-11-07T19:20:24.907260",
     "status": "completed"
    },
    "tags": []
   },
   "outputs": [],
   "source": [
    "train_path = os.path.join('/kaggle/input/', 'jigsaw-toxic-comment-classification-challenge', 'train.csv.zip')"
   ]
  },
  {
   "cell_type": "code",
   "execution_count": 3,
   "id": "c4744917",
   "metadata": {
    "execution": {
     "iopub.execute_input": "2023-11-07T19:20:24.952228Z",
     "iopub.status.busy": "2023-11-07T19:20:24.951588Z",
     "iopub.status.idle": "2023-11-07T19:20:26.491826Z",
     "shell.execute_reply": "2023-11-07T19:20:26.491024Z"
    },
    "papermill": {
     "duration": 1.555426,
     "end_time": "2023-11-07T19:20:26.494197",
     "exception": false,
     "start_time": "2023-11-07T19:20:24.938771",
     "status": "completed"
    },
    "tags": []
   },
   "outputs": [],
   "source": [
    "train_df = pd.read_csv(train_path)"
   ]
  },
  {
   "cell_type": "code",
   "execution_count": 4,
   "id": "452a0eaa",
   "metadata": {
    "execution": {
     "iopub.execute_input": "2023-11-07T19:20:26.520057Z",
     "iopub.status.busy": "2023-11-07T19:20:26.519738Z",
     "iopub.status.idle": "2023-11-07T19:20:26.538182Z",
     "shell.execute_reply": "2023-11-07T19:20:26.537326Z"
    },
    "papermill": {
     "duration": 0.033278,
     "end_time": "2023-11-07T19:20:26.540002",
     "exception": false,
     "start_time": "2023-11-07T19:20:26.506724",
     "status": "completed"
    },
    "tags": []
   },
   "outputs": [
    {
     "data": {
      "text/html": [
       "<div>\n",
       "<style scoped>\n",
       "    .dataframe tbody tr th:only-of-type {\n",
       "        vertical-align: middle;\n",
       "    }\n",
       "\n",
       "    .dataframe tbody tr th {\n",
       "        vertical-align: top;\n",
       "    }\n",
       "\n",
       "    .dataframe thead th {\n",
       "        text-align: right;\n",
       "    }\n",
       "</style>\n",
       "<table border=\"1\" class=\"dataframe\">\n",
       "  <thead>\n",
       "    <tr style=\"text-align: right;\">\n",
       "      <th></th>\n",
       "      <th>id</th>\n",
       "      <th>comment_text</th>\n",
       "      <th>toxic</th>\n",
       "      <th>severe_toxic</th>\n",
       "      <th>obscene</th>\n",
       "      <th>threat</th>\n",
       "      <th>insult</th>\n",
       "      <th>identity_hate</th>\n",
       "    </tr>\n",
       "  </thead>\n",
       "  <tbody>\n",
       "    <tr>\n",
       "      <th>0</th>\n",
       "      <td>0000997932d777bf</td>\n",
       "      <td>Explanation\\nWhy the edits made under my usern...</td>\n",
       "      <td>0</td>\n",
       "      <td>0</td>\n",
       "      <td>0</td>\n",
       "      <td>0</td>\n",
       "      <td>0</td>\n",
       "      <td>0</td>\n",
       "    </tr>\n",
       "    <tr>\n",
       "      <th>1</th>\n",
       "      <td>000103f0d9cfb60f</td>\n",
       "      <td>D'aww! He matches this background colour I'm s...</td>\n",
       "      <td>0</td>\n",
       "      <td>0</td>\n",
       "      <td>0</td>\n",
       "      <td>0</td>\n",
       "      <td>0</td>\n",
       "      <td>0</td>\n",
       "    </tr>\n",
       "    <tr>\n",
       "      <th>2</th>\n",
       "      <td>000113f07ec002fd</td>\n",
       "      <td>Hey man, I'm really not trying to edit war. It...</td>\n",
       "      <td>0</td>\n",
       "      <td>0</td>\n",
       "      <td>0</td>\n",
       "      <td>0</td>\n",
       "      <td>0</td>\n",
       "      <td>0</td>\n",
       "    </tr>\n",
       "    <tr>\n",
       "      <th>3</th>\n",
       "      <td>0001b41b1c6bb37e</td>\n",
       "      <td>\"\\nMore\\nI can't make any real suggestions on ...</td>\n",
       "      <td>0</td>\n",
       "      <td>0</td>\n",
       "      <td>0</td>\n",
       "      <td>0</td>\n",
       "      <td>0</td>\n",
       "      <td>0</td>\n",
       "    </tr>\n",
       "    <tr>\n",
       "      <th>4</th>\n",
       "      <td>0001d958c54c6e35</td>\n",
       "      <td>You, sir, are my hero. Any chance you remember...</td>\n",
       "      <td>0</td>\n",
       "      <td>0</td>\n",
       "      <td>0</td>\n",
       "      <td>0</td>\n",
       "      <td>0</td>\n",
       "      <td>0</td>\n",
       "    </tr>\n",
       "  </tbody>\n",
       "</table>\n",
       "</div>"
      ],
      "text/plain": [
       "                 id                                       comment_text  toxic  \\\n",
       "0  0000997932d777bf  Explanation\\nWhy the edits made under my usern...      0   \n",
       "1  000103f0d9cfb60f  D'aww! He matches this background colour I'm s...      0   \n",
       "2  000113f07ec002fd  Hey man, I'm really not trying to edit war. It...      0   \n",
       "3  0001b41b1c6bb37e  \"\\nMore\\nI can't make any real suggestions on ...      0   \n",
       "4  0001d958c54c6e35  You, sir, are my hero. Any chance you remember...      0   \n",
       "\n",
       "   severe_toxic  obscene  threat  insult  identity_hate  \n",
       "0             0        0       0       0              0  \n",
       "1             0        0       0       0              0  \n",
       "2             0        0       0       0              0  \n",
       "3             0        0       0       0              0  \n",
       "4             0        0       0       0              0  "
      ]
     },
     "execution_count": 4,
     "metadata": {},
     "output_type": "execute_result"
    }
   ],
   "source": [
    "train_df.head()"
   ]
  },
  {
   "cell_type": "code",
   "execution_count": 5,
   "id": "fb537517",
   "metadata": {
    "execution": {
     "iopub.execute_input": "2023-11-07T19:20:26.565085Z",
     "iopub.status.busy": "2023-11-07T19:20:26.564793Z",
     "iopub.status.idle": "2023-11-07T19:20:26.570175Z",
     "shell.execute_reply": "2023-11-07T19:20:26.569324Z"
    },
    "papermill": {
     "duration": 0.019846,
     "end_time": "2023-11-07T19:20:26.571900",
     "exception": false,
     "start_time": "2023-11-07T19:20:26.552054",
     "status": "completed"
    },
    "tags": []
   },
   "outputs": [
    {
     "data": {
      "text/plain": [
       "(159571, 8)"
      ]
     },
     "execution_count": 5,
     "metadata": {},
     "output_type": "execute_result"
    }
   ],
   "source": [
    "train_df.shape"
   ]
  },
  {
   "cell_type": "code",
   "execution_count": 6,
   "id": "f0e1f638",
   "metadata": {
    "execution": {
     "iopub.execute_input": "2023-11-07T19:20:26.596585Z",
     "iopub.status.busy": "2023-11-07T19:20:26.596312Z",
     "iopub.status.idle": "2023-11-07T19:20:26.601817Z",
     "shell.execute_reply": "2023-11-07T19:20:26.601027Z"
    },
    "papermill": {
     "duration": 0.020069,
     "end_time": "2023-11-07T19:20:26.603717",
     "exception": false,
     "start_time": "2023-11-07T19:20:26.583648",
     "status": "completed"
    },
    "tags": []
   },
   "outputs": [
    {
     "data": {
      "text/plain": [
       "\"Explanation\\nWhy the edits made under my username Hardcore Metallica Fan were reverted? They weren't vandalisms, just closure on some GAs after I voted at New York Dolls FAC. And please don't remove the template from the talk page since I'm retired now.89.205.38.27\""
      ]
     },
     "execution_count": 6,
     "metadata": {},
     "output_type": "execute_result"
    }
   ],
   "source": [
    "train_df.iloc[0]['comment_text']"
   ]
  },
  {
   "cell_type": "markdown",
   "id": "c776c167",
   "metadata": {
    "papermill": {
     "duration": 0.012092,
     "end_time": "2023-11-07T19:20:26.628085",
     "exception": false,
     "start_time": "2023-11-07T19:20:26.615993",
     "status": "completed"
    },
    "tags": []
   },
   "source": [
    "# Preprocess the Data"
   ]
  },
  {
   "cell_type": "code",
   "execution_count": 7,
   "id": "0e7888f0",
   "metadata": {
    "execution": {
     "iopub.execute_input": "2023-11-07T19:20:26.653169Z",
     "iopub.status.busy": "2023-11-07T19:20:26.652869Z",
     "iopub.status.idle": "2023-11-07T19:20:26.664762Z",
     "shell.execute_reply": "2023-11-07T19:20:26.663943Z"
    },
    "papermill": {
     "duration": 0.026685,
     "end_time": "2023-11-07T19:20:26.666703",
     "exception": false,
     "start_time": "2023-11-07T19:20:26.640018",
     "status": "completed"
    },
    "tags": []
   },
   "outputs": [],
   "source": [
    "X = train_df['comment_text']\n",
    "y = train_df[train_df.columns[2:]].values"
   ]
  },
  {
   "cell_type": "code",
   "execution_count": 8,
   "id": "ede6dfb6",
   "metadata": {
    "execution": {
     "iopub.execute_input": "2023-11-07T19:20:26.691952Z",
     "iopub.status.busy": "2023-11-07T19:20:26.691702Z",
     "iopub.status.idle": "2023-11-07T19:20:26.698978Z",
     "shell.execute_reply": "2023-11-07T19:20:26.698140Z"
    },
    "papermill": {
     "duration": 0.022162,
     "end_time": "2023-11-07T19:20:26.700909",
     "exception": false,
     "start_time": "2023-11-07T19:20:26.678747",
     "status": "completed"
    },
    "tags": []
   },
   "outputs": [
    {
     "data": {
      "text/plain": [
       "0         Explanation\\nWhy the edits made under my usern...\n",
       "1         D'aww! He matches this background colour I'm s...\n",
       "2         Hey man, I'm really not trying to edit war. It...\n",
       "3         \"\\nMore\\nI can't make any real suggestions on ...\n",
       "4         You, sir, are my hero. Any chance you remember...\n",
       "                                ...                        \n",
       "159566    \":::::And for the second time of asking, when ...\n",
       "159567    You should be ashamed of yourself \\n\\nThat is ...\n",
       "159568    Spitzer \\n\\nUmm, theres no actual article for ...\n",
       "159569    And it looks like it was actually you who put ...\n",
       "159570    \"\\nAnd ... I really don't think you understand...\n",
       "Name: comment_text, Length: 159571, dtype: object"
      ]
     },
     "execution_count": 8,
     "metadata": {},
     "output_type": "execute_result"
    }
   ],
   "source": [
    "X"
   ]
  },
  {
   "cell_type": "code",
   "execution_count": 9,
   "id": "bf493870",
   "metadata": {
    "execution": {
     "iopub.execute_input": "2023-11-07T19:20:26.726356Z",
     "iopub.status.busy": "2023-11-07T19:20:26.726109Z",
     "iopub.status.idle": "2023-11-07T19:20:26.731816Z",
     "shell.execute_reply": "2023-11-07T19:20:26.730946Z"
    },
    "papermill": {
     "duration": 0.020492,
     "end_time": "2023-11-07T19:20:26.733817",
     "exception": false,
     "start_time": "2023-11-07T19:20:26.713325",
     "status": "completed"
    },
    "tags": []
   },
   "outputs": [
    {
     "data": {
      "text/plain": [
       "array([[0, 0, 0, 0, 0, 0],\n",
       "       [0, 0, 0, 0, 0, 0],\n",
       "       [0, 0, 0, 0, 0, 0],\n",
       "       ...,\n",
       "       [0, 0, 0, 0, 0, 0],\n",
       "       [0, 0, 0, 0, 0, 0],\n",
       "       [0, 0, 0, 0, 0, 0]])"
      ]
     },
     "execution_count": 9,
     "metadata": {},
     "output_type": "execute_result"
    }
   ],
   "source": [
    "y"
   ]
  },
  {
   "cell_type": "code",
   "execution_count": 10,
   "id": "827111a5",
   "metadata": {
    "execution": {
     "iopub.execute_input": "2023-11-07T19:20:26.759760Z",
     "iopub.status.busy": "2023-11-07T19:20:26.759314Z",
     "iopub.status.idle": "2023-11-07T19:20:29.760727Z",
     "shell.execute_reply": "2023-11-07T19:20:29.759670Z"
    },
    "papermill": {
     "duration": 3.017146,
     "end_time": "2023-11-07T19:20:29.763211",
     "exception": false,
     "start_time": "2023-11-07T19:20:26.746065",
     "status": "completed"
    },
    "tags": []
   },
   "outputs": [],
   "source": [
    "max_features = 200000  # number of words in the vacab,  \n",
    "max_len = 1800  # Sequence length to pad the outputs to.\n",
    "\n",
    "vectorizer = TextVectorization(max_tokens = max_features, \n",
    "                                    output_sequence_length = max_len, \n",
    "                                    output_mode = 'int')   # this means that it is going to map every single word to an integer value\n"
   ]
  },
  {
   "cell_type": "code",
   "execution_count": 11,
   "id": "9ba4f91f",
   "metadata": {
    "execution": {
     "iopub.execute_input": "2023-11-07T19:20:29.789999Z",
     "iopub.status.busy": "2023-11-07T19:20:29.789693Z",
     "iopub.status.idle": "2023-11-07T19:20:40.663447Z",
     "shell.execute_reply": "2023-11-07T19:20:40.662597Z"
    },
    "papermill": {
     "duration": 10.889542,
     "end_time": "2023-11-07T19:20:40.665827",
     "exception": false,
     "start_time": "2023-11-07T19:20:29.776285",
     "status": "completed"
    },
    "tags": []
   },
   "outputs": [],
   "source": [
    "vectorizer.adapt(X.values)"
   ]
  },
  {
   "cell_type": "code",
   "execution_count": 12,
   "id": "7394a745",
   "metadata": {
    "execution": {
     "iopub.execute_input": "2023-11-07T19:20:40.735214Z",
     "iopub.status.busy": "2023-11-07T19:20:40.734855Z",
     "iopub.status.idle": "2023-11-07T19:20:40.738871Z",
     "shell.execute_reply": "2023-11-07T19:20:40.738015Z"
    },
    "papermill": {
     "duration": 0.062143,
     "end_time": "2023-11-07T19:20:40.740739",
     "exception": false,
     "start_time": "2023-11-07T19:20:40.678596",
     "status": "completed"
    },
    "tags": []
   },
   "outputs": [],
   "source": [
    "# vectorizer.get_vocabulary()"
   ]
  },
  {
   "cell_type": "code",
   "execution_count": 13,
   "id": "7f8e6bc0",
   "metadata": {
    "execution": {
     "iopub.execute_input": "2023-11-07T19:20:40.767222Z",
     "iopub.status.busy": "2023-11-07T19:20:40.766892Z",
     "iopub.status.idle": "2023-11-07T19:20:40.770638Z",
     "shell.execute_reply": "2023-11-07T19:20:40.769813Z"
    },
    "papermill": {
     "duration": 0.019109,
     "end_time": "2023-11-07T19:20:40.772582",
     "exception": false,
     "start_time": "2023-11-07T19:20:40.753473",
     "status": "completed"
    },
    "tags": []
   },
   "outputs": [],
   "source": [
    "# vectorizer('Hello World! Life is great')[:5]"
   ]
  },
  {
   "cell_type": "code",
   "execution_count": 14,
   "id": "33ed95d2",
   "metadata": {
    "execution": {
     "iopub.execute_input": "2023-11-07T19:20:40.798665Z",
     "iopub.status.busy": "2023-11-07T19:20:40.798378Z",
     "iopub.status.idle": "2023-11-07T19:20:45.446426Z",
     "shell.execute_reply": "2023-11-07T19:20:45.445503Z"
    },
    "papermill": {
     "duration": 4.663758,
     "end_time": "2023-11-07T19:20:45.448844",
     "exception": false,
     "start_time": "2023-11-07T19:20:40.785086",
     "status": "completed"
    },
    "tags": []
   },
   "outputs": [],
   "source": [
    "vectorized_text = vectorizer(X.values)"
   ]
  },
  {
   "cell_type": "code",
   "execution_count": 15,
   "id": "88aaf9a8",
   "metadata": {
    "execution": {
     "iopub.execute_input": "2023-11-07T19:20:45.475700Z",
     "iopub.status.busy": "2023-11-07T19:20:45.475381Z",
     "iopub.status.idle": "2023-11-07T19:20:45.481811Z",
     "shell.execute_reply": "2023-11-07T19:20:45.480993Z"
    },
    "papermill": {
     "duration": 0.022234,
     "end_time": "2023-11-07T19:20:45.483904",
     "exception": false,
     "start_time": "2023-11-07T19:20:45.461670",
     "status": "completed"
    },
    "tags": []
   },
   "outputs": [
    {
     "data": {
      "text/plain": [
       "<tf.Tensor: shape=(159571, 1800), dtype=int64, numpy=\n",
       "array([[  645,    76,     2, ...,     0,     0,     0],\n",
       "       [    1,    54,  2489, ...,     0,     0,     0],\n",
       "       [  425,   441,    70, ...,     0,     0,     0],\n",
       "       ...,\n",
       "       [32445,  7392,   383, ...,     0,     0,     0],\n",
       "       [    5,    12,   534, ...,     0,     0,     0],\n",
       "       [    5,     8,   130, ...,     0,     0,     0]])>"
      ]
     },
     "execution_count": 15,
     "metadata": {},
     "output_type": "execute_result"
    }
   ],
   "source": [
    "vectorized_text"
   ]
  },
  {
   "cell_type": "markdown",
   "id": "20e63dc8",
   "metadata": {
    "papermill": {
     "duration": 0.012672,
     "end_time": "2023-11-07T19:20:45.510065",
     "exception": false,
     "start_time": "2023-11-07T19:20:45.497393",
     "status": "completed"
    },
    "tags": []
   },
   "source": [
    "## Build Data Pipeline"
   ]
  },
  {
   "cell_type": "code",
   "execution_count": 16,
   "id": "16847386",
   "metadata": {
    "execution": {
     "iopub.execute_input": "2023-11-07T19:20:45.536767Z",
     "iopub.status.busy": "2023-11-07T19:20:45.536464Z",
     "iopub.status.idle": "2023-11-07T19:20:45.564149Z",
     "shell.execute_reply": "2023-11-07T19:20:45.563261Z"
    },
    "papermill": {
     "duration": 0.043466,
     "end_time": "2023-11-07T19:20:45.566208",
     "exception": false,
     "start_time": "2023-11-07T19:20:45.522742",
     "status": "completed"
    },
    "tags": []
   },
   "outputs": [],
   "source": [
    "# MCSHBAP => map, cache, shuffle, batch, prefetch\n",
    "# from_tensor_slices or list_files\n",
    "\n",
    "dataset = tf.data.Dataset.from_tensor_slices((vectorized_text, y))\n",
    "dataset = dataset.cache()\n",
    "dataset = dataset.shuffle(160000)  # how large our buffer size needs to be\n",
    "dataset = dataset.batch(16)  # each batch represented as a series of 16 samples\n",
    "dataset = dataset.prefetch(8)  # helps prevent bottlenecks"
   ]
  },
  {
   "cell_type": "code",
   "execution_count": 17,
   "id": "f4d1eb5c",
   "metadata": {
    "execution": {
     "iopub.execute_input": "2023-11-07T19:20:45.593862Z",
     "iopub.status.busy": "2023-11-07T19:20:45.593340Z",
     "iopub.status.idle": "2023-11-07T19:20:47.816033Z",
     "shell.execute_reply": "2023-11-07T19:20:47.814974Z"
    },
    "papermill": {
     "duration": 2.239353,
     "end_time": "2023-11-07T19:20:47.818631",
     "exception": false,
     "start_time": "2023-11-07T19:20:45.579278",
     "status": "completed"
    },
    "tags": []
   },
   "outputs": [
    {
     "data": {
      "text/plain": [
       "(array([[  729,   793,  6949, ...,     0,     0,     0],\n",
       "        [26743,    41,     9, ...,     0,     0,     0],\n",
       "        [    7,   397,     5, ...,     0,     0,     0],\n",
       "        ...,\n",
       "        [ 1544,     7,    33, ...,     0,     0,     0],\n",
       "        [  425,  4128,    53, ...,     0,     0,     0],\n",
       "        [ 2580,    27,    86, ...,     0,     0,     0]]),\n",
       " array([[0, 0, 0, 0, 0, 0],\n",
       "        [0, 0, 0, 0, 0, 0],\n",
       "        [1, 0, 1, 0, 1, 0],\n",
       "        [0, 0, 0, 0, 0, 0],\n",
       "        [0, 0, 0, 0, 0, 0],\n",
       "        [0, 0, 0, 0, 0, 0],\n",
       "        [0, 0, 0, 0, 0, 0],\n",
       "        [0, 0, 0, 0, 0, 0],\n",
       "        [1, 0, 0, 0, 1, 0],\n",
       "        [1, 0, 0, 0, 1, 1],\n",
       "        [0, 0, 0, 0, 0, 0],\n",
       "        [1, 0, 1, 0, 0, 0],\n",
       "        [0, 0, 0, 0, 0, 0],\n",
       "        [0, 0, 0, 0, 0, 0],\n",
       "        [1, 0, 1, 0, 1, 0],\n",
       "        [0, 0, 0, 0, 0, 0]]))"
      ]
     },
     "execution_count": 17,
     "metadata": {},
     "output_type": "execute_result"
    }
   ],
   "source": [
    "one_batch = dataset.as_numpy_iterator().next()    # batch of 16 training example\n",
    "one_batch"
   ]
  },
  {
   "cell_type": "code",
   "execution_count": 18,
   "id": "0a91bee0",
   "metadata": {
    "execution": {
     "iopub.execute_input": "2023-11-07T19:20:47.850933Z",
     "iopub.status.busy": "2023-11-07T19:20:47.850128Z",
     "iopub.status.idle": "2023-11-07T19:20:47.856472Z",
     "shell.execute_reply": "2023-11-07T19:20:47.855601Z"
    },
    "papermill": {
     "duration": 0.023225,
     "end_time": "2023-11-07T19:20:47.858835",
     "exception": false,
     "start_time": "2023-11-07T19:20:47.835610",
     "status": "completed"
    },
    "tags": []
   },
   "outputs": [
    {
     "data": {
      "text/plain": [
       "16"
      ]
     },
     "execution_count": 18,
     "metadata": {},
     "output_type": "execute_result"
    }
   ],
   "source": [
    "len(one_batch[0])"
   ]
  },
  {
   "cell_type": "markdown",
   "id": "fa08e9ca",
   "metadata": {
    "papermill": {
     "duration": 0.01351,
     "end_time": "2023-11-07T19:20:47.888225",
     "exception": false,
     "start_time": "2023-11-07T19:20:47.874715",
     "status": "completed"
    },
    "tags": []
   },
   "source": [
    "## Data Splitting"
   ]
  },
  {
   "cell_type": "code",
   "execution_count": 19,
   "id": "fa69b03d",
   "metadata": {
    "execution": {
     "iopub.execute_input": "2023-11-07T19:20:47.916360Z",
     "iopub.status.busy": "2023-11-07T19:20:47.915504Z",
     "iopub.status.idle": "2023-11-07T19:20:47.922632Z",
     "shell.execute_reply": "2023-11-07T19:20:47.921396Z"
    },
    "papermill": {
     "duration": 0.023207,
     "end_time": "2023-11-07T19:20:47.924567",
     "exception": false,
     "start_time": "2023-11-07T19:20:47.901360",
     "status": "completed"
    },
    "tags": []
   },
   "outputs": [
    {
     "name": "stdout",
     "output_type": "stream",
     "text": [
      "The dataset contains 9974 batch\n"
     ]
    }
   ],
   "source": [
    "print(f'The dataset contains {len(dataset)} batch')"
   ]
  },
  {
   "cell_type": "code",
   "execution_count": 20,
   "id": "7c2a13b9",
   "metadata": {
    "execution": {
     "iopub.execute_input": "2023-11-07T19:20:47.952863Z",
     "iopub.status.busy": "2023-11-07T19:20:47.952339Z",
     "iopub.status.idle": "2023-11-07T19:20:47.968292Z",
     "shell.execute_reply": "2023-11-07T19:20:47.967608Z"
    },
    "papermill": {
     "duration": 0.032519,
     "end_time": "2023-11-07T19:20:47.970167",
     "exception": false,
     "start_time": "2023-11-07T19:20:47.937648",
     "status": "completed"
    },
    "tags": []
   },
   "outputs": [],
   "source": [
    "train = dataset.take(int(len(dataset)*.9))   # 90%\n",
    "val = dataset.skip(int(len(dataset)*.7)).take(int(len(dataset)*.05))   # 5%\n",
    "test = dataset.skip(int(len(dataset)*.9)).take(int(len(dataset)*.05))  # 5%"
   ]
  },
  {
   "cell_type": "code",
   "execution_count": 21,
   "id": "b4761ee4",
   "metadata": {
    "execution": {
     "iopub.execute_input": "2023-11-07T19:20:47.997808Z",
     "iopub.status.busy": "2023-11-07T19:20:47.997519Z",
     "iopub.status.idle": "2023-11-07T19:20:48.003885Z",
     "shell.execute_reply": "2023-11-07T19:20:48.003097Z"
    },
    "papermill": {
     "duration": 0.022743,
     "end_time": "2023-11-07T19:20:48.006049",
     "exception": false,
     "start_time": "2023-11-07T19:20:47.983306",
     "status": "completed"
    },
    "tags": []
   },
   "outputs": [
    {
     "data": {
      "text/plain": [
       "(8976, 498, 498)"
      ]
     },
     "execution_count": 21,
     "metadata": {},
     "output_type": "execute_result"
    }
   ],
   "source": [
    "len(train), len(val), len(test)"
   ]
  },
  {
   "cell_type": "markdown",
   "id": "59f68c29",
   "metadata": {
    "papermill": {
     "duration": 0.013094,
     "end_time": "2023-11-07T19:20:48.032253",
     "exception": false,
     "start_time": "2023-11-07T19:20:48.019159",
     "status": "completed"
    },
    "tags": []
   },
   "source": [
    "# Modeling"
   ]
  },
  {
   "cell_type": "code",
   "execution_count": 22,
   "id": "90d887cc",
   "metadata": {
    "execution": {
     "iopub.execute_input": "2023-11-07T19:20:48.059984Z",
     "iopub.status.busy": "2023-11-07T19:20:48.059220Z",
     "iopub.status.idle": "2023-11-07T19:20:48.063074Z",
     "shell.execute_reply": "2023-11-07T19:20:48.062172Z"
    },
    "papermill": {
     "duration": 0.019724,
     "end_time": "2023-11-07T19:20:48.064931",
     "exception": false,
     "start_time": "2023-11-07T19:20:48.045207",
     "status": "completed"
    },
    "tags": []
   },
   "outputs": [],
   "source": [
    "# LSTM?? # Long Short-Term Memory layer"
   ]
  },
  {
   "cell_type": "markdown",
   "id": "7270b6a7",
   "metadata": {
    "papermill": {
     "duration": 0.01291,
     "end_time": "2023-11-07T19:20:48.090938",
     "exception": false,
     "start_time": "2023-11-07T19:20:48.078028",
     "status": "completed"
    },
    "tags": []
   },
   "source": [
    "## Build the model"
   ]
  },
  {
   "cell_type": "code",
   "execution_count": 23,
   "id": "6c1e617d",
   "metadata": {
    "execution": {
     "iopub.execute_input": "2023-11-07T19:20:48.118375Z",
     "iopub.status.busy": "2023-11-07T19:20:48.118104Z",
     "iopub.status.idle": "2023-11-07T19:20:48.710936Z",
     "shell.execute_reply": "2023-11-07T19:20:48.710190Z"
    },
    "papermill": {
     "duration": 0.609343,
     "end_time": "2023-11-07T19:20:48.713354",
     "exception": false,
     "start_time": "2023-11-07T19:20:48.104011",
     "status": "completed"
    },
    "tags": []
   },
   "outputs": [],
   "source": [
    "model = Sequential()\n",
    "\n",
    "# Create the embedding layer \n",
    "model.add(Embedding(max_features+1, 32))\n",
    "\n",
    "# Bidirectional LSTM Layer\n",
    "model.add(Bidirectional(LSTM(32, activation='tanh')))\n",
    "\n",
    "# Feature extractor Fully connected layers\n",
    "model.add(Dense(128, activation='relu'))\n",
    "model.add(Dense(256, activation='relu'))\n",
    "model.add(Dense(128, activation='relu'))\n",
    "\n",
    "# Final layer\n",
    "model.add(Dense(6, activation='sigmoid'))"
   ]
  },
  {
   "cell_type": "code",
   "execution_count": 24,
   "id": "b747d22c",
   "metadata": {
    "execution": {
     "iopub.execute_input": "2023-11-07T19:20:48.741923Z",
     "iopub.status.busy": "2023-11-07T19:20:48.741359Z",
     "iopub.status.idle": "2023-11-07T19:20:48.756458Z",
     "shell.execute_reply": "2023-11-07T19:20:48.755764Z"
    },
    "papermill": {
     "duration": 0.031326,
     "end_time": "2023-11-07T19:20:48.758330",
     "exception": false,
     "start_time": "2023-11-07T19:20:48.727004",
     "status": "completed"
    },
    "tags": []
   },
   "outputs": [],
   "source": [
    "model.compile(optimizer='Adam',\n",
    "              loss='BinaryCrossentropy', \n",
    "              metrics=['accuracy'])"
   ]
  },
  {
   "cell_type": "code",
   "execution_count": 25,
   "id": "72ccc27b",
   "metadata": {
    "execution": {
     "iopub.execute_input": "2023-11-07T19:20:48.785693Z",
     "iopub.status.busy": "2023-11-07T19:20:48.785146Z",
     "iopub.status.idle": "2023-11-07T19:20:48.808942Z",
     "shell.execute_reply": "2023-11-07T19:20:48.807896Z"
    },
    "papermill": {
     "duration": 0.042103,
     "end_time": "2023-11-07T19:20:48.813535",
     "exception": false,
     "start_time": "2023-11-07T19:20:48.771432",
     "status": "completed"
    },
    "tags": []
   },
   "outputs": [
    {
     "name": "stdout",
     "output_type": "stream",
     "text": [
      "Model: \"sequential\"\n",
      "_________________________________________________________________\n",
      " Layer (type)                Output Shape              Param #   \n",
      "=================================================================\n",
      " embedding (Embedding)       (None, None, 32)          6400032   \n",
      "                                                                 \n",
      " bidirectional (Bidirectiona  (None, 64)               16640     \n",
      " l)                                                              \n",
      "                                                                 \n",
      " dense (Dense)               (None, 128)               8320      \n",
      "                                                                 \n",
      " dense_1 (Dense)             (None, 256)               33024     \n",
      "                                                                 \n",
      " dense_2 (Dense)             (None, 128)               32896     \n",
      "                                                                 \n",
      " dense_3 (Dense)             (None, 6)                 774       \n",
      "                                                                 \n",
      "=================================================================\n",
      "Total params: 6,491,686\n",
      "Trainable params: 6,491,686\n",
      "Non-trainable params: 0\n",
      "_________________________________________________________________\n"
     ]
    }
   ],
   "source": [
    "model.summary()"
   ]
  },
  {
   "cell_type": "markdown",
   "id": "d327677a",
   "metadata": {
    "papermill": {
     "duration": 0.014334,
     "end_time": "2023-11-07T19:20:48.842626",
     "exception": false,
     "start_time": "2023-11-07T19:20:48.828292",
     "status": "completed"
    },
    "tags": []
   },
   "source": [
    "## Training"
   ]
  },
  {
   "cell_type": "code",
   "execution_count": 26,
   "id": "13f23705",
   "metadata": {
    "execution": {
     "iopub.execute_input": "2023-11-07T19:20:48.873911Z",
     "iopub.status.busy": "2023-11-07T19:20:48.873287Z",
     "iopub.status.idle": "2023-11-07T19:59:18.010356Z",
     "shell.execute_reply": "2023-11-07T19:59:18.009355Z"
    },
    "papermill": {
     "duration": 2311.300631,
     "end_time": "2023-11-07T19:59:20.158219",
     "exception": false,
     "start_time": "2023-11-07T19:20:48.857588",
     "status": "completed"
    },
    "tags": []
   },
   "outputs": [
    {
     "name": "stdout",
     "output_type": "stream",
     "text": [
      "Epoch 1/3\n",
      "8976/8976 [==============================] - 867s 96ms/step - loss: 0.0597 - accuracy: 0.9827 - val_loss: 0.0436 - val_accuracy: 0.9957\n",
      "Epoch 2/3\n",
      "8976/8976 [==============================] - 725s 81ms/step - loss: 0.0437 - accuracy: 0.9932 - val_loss: 0.0396 - val_accuracy: 0.9944\n",
      "Epoch 3/3\n",
      "8976/8976 [==============================] - 715s 80ms/step - loss: 0.0381 - accuracy: 0.9929 - val_loss: 0.0325 - val_accuracy: 0.9945\n"
     ]
    }
   ],
   "source": [
    "hist = model.fit(train, epochs=3, validation_data=val, verbose=1)"
   ]
  },
  {
   "cell_type": "markdown",
   "id": "7db25e0e",
   "metadata": {
    "papermill": {
     "duration": 2.165854,
     "end_time": "2023-11-07T19:59:24.480778",
     "exception": false,
     "start_time": "2023-11-07T19:59:22.314924",
     "status": "completed"
    },
    "tags": []
   },
   "source": [
    "# Model Evaluation"
   ]
  },
  {
   "cell_type": "code",
   "execution_count": 27,
   "id": "63039b26",
   "metadata": {
    "execution": {
     "iopub.execute_input": "2023-11-07T19:59:28.783225Z",
     "iopub.status.busy": "2023-11-07T19:59:28.782387Z",
     "iopub.status.idle": "2023-11-07T19:59:48.793600Z",
     "shell.execute_reply": "2023-11-07T19:59:48.792278Z"
    },
    "papermill": {
     "duration": 22.095946,
     "end_time": "2023-11-07T19:59:48.795623",
     "exception": false,
     "start_time": "2023-11-07T19:59:26.699677",
     "status": "completed"
    },
    "tags": []
   },
   "outputs": [
    {
     "name": "stdout",
     "output_type": "stream",
     "text": [
      "498/498 [==============================] - 20s 35ms/step - loss: 0.0335 - accuracy: 0.9944\n",
      "Test Loss:  0.03347361460328102\n",
      "Test Accuracy:  0.994352400302887\n"
     ]
    }
   ],
   "source": [
    "loss, Acc = model.evaluate(test)\n",
    "\n",
    "print('Test Loss: ', loss)\n",
    "print('Test Accuracy: ', Acc)"
   ]
  },
  {
   "cell_type": "code",
   "execution_count": 28,
   "id": "06c19056",
   "metadata": {
    "execution": {
     "iopub.execute_input": "2023-11-07T19:59:53.206041Z",
     "iopub.status.busy": "2023-11-07T19:59:53.205109Z",
     "iopub.status.idle": "2023-11-07T19:59:53.531017Z",
     "shell.execute_reply": "2023-11-07T19:59:53.530098Z"
    },
    "papermill": {
     "duration": 2.464059,
     "end_time": "2023-11-07T19:59:53.533065",
     "exception": false,
     "start_time": "2023-11-07T19:59:51.069006",
     "status": "completed"
    },
    "tags": []
   },
   "outputs": [
    {
     "data": {
      "text/plain": [
       "<Figure size 800x500 with 0 Axes>"
      ]
     },
     "metadata": {},
     "output_type": "display_data"
    },
    {
     "data": {
      "image/png": "[encoded data removed]",
      "text/plain": [
       "<Figure size 640x480 with 1 Axes>"
      ]
     },
     "metadata": {},
     "output_type": "display_data"
    }
   ],
   "source": [
    "from matplotlib import pyplot as plt\n",
    "\n",
    "plt.figure(figsize=(8,5))\n",
    "pd.DataFrame(hist.history).plot()\n",
    "plt.show()"
   ]
  },
  {
   "cell_type": "markdown",
   "id": "b87771d9",
   "metadata": {
    "papermill": {
     "duration": 2.245694,
     "end_time": "2023-11-07T19:59:57.963567",
     "exception": false,
     "start_time": "2023-11-07T19:59:55.717873",
     "status": "completed"
    },
    "tags": []
   },
   "source": [
    "## Make predictions"
   ]
  },
  {
   "cell_type": "code",
   "execution_count": 29,
   "id": "99b9b3b0",
   "metadata": {
    "execution": {
     "iopub.execute_input": "2023-11-07T20:00:02.272468Z",
     "iopub.status.busy": "2023-11-07T20:00:02.271826Z",
     "iopub.status.idle": "2023-11-07T20:00:03.113051Z",
     "shell.execute_reply": "2023-11-07T20:00:03.112118Z"
    },
    "papermill": {
     "duration": 3.043578,
     "end_time": "2023-11-07T20:00:03.115380",
     "exception": false,
     "start_time": "2023-11-07T20:00:00.071802",
     "status": "completed"
    },
    "tags": []
   },
   "outputs": [
    {
     "name": "stdout",
     "output_type": "stream",
     "text": [
      "1/1 [==============================] - 1s 760ms/step\n"
     ]
    }
   ],
   "source": [
    "input_text = vectorizer('You freaking suck! I am going to hit you.')\n",
    "\n",
    "res = model.predict(np.expand_dims(input_text, axis=0))"
   ]
  },
  {
   "cell_type": "code",
   "execution_count": 30,
   "id": "aec1d421",
   "metadata": {
    "execution": {
     "iopub.execute_input": "2023-11-07T20:00:07.474692Z",
     "iopub.status.busy": "2023-11-07T20:00:07.473829Z",
     "iopub.status.idle": "2023-11-07T20:00:07.480516Z",
     "shell.execute_reply": "2023-11-07T20:00:07.479641Z"
    },
    "papermill": {
     "duration": 2.105411,
     "end_time": "2023-11-07T20:00:07.482412",
     "exception": false,
     "start_time": "2023-11-07T20:00:05.377001",
     "status": "completed"
    },
    "tags": []
   },
   "outputs": [
    {
     "data": {
      "text/plain": [
       "array([[1, 0, 1, 0, 1, 0]])"
      ]
     },
     "execution_count": 30,
     "metadata": {},
     "output_type": "execute_result"
    }
   ],
   "source": [
    "(res > 0.5).astype(int)"
   ]
  },
  {
   "cell_type": "code",
   "execution_count": 31,
   "id": "9f4a85fa",
   "metadata": {
    "execution": {
     "iopub.execute_input": "2023-11-07T20:00:11.833833Z",
     "iopub.status.busy": "2023-11-07T20:00:11.833178Z",
     "iopub.status.idle": "2023-11-07T20:00:11.839545Z",
     "shell.execute_reply": "2023-11-07T20:00:11.838675Z"
    },
    "papermill": {
     "duration": 2.209548,
     "end_time": "2023-11-07T20:00:11.841613",
     "exception": false,
     "start_time": "2023-11-07T20:00:09.632065",
     "status": "completed"
    },
    "tags": []
   },
   "outputs": [
    {
     "data": {
      "text/plain": [
       "Index(['toxic', 'severe_toxic', 'obscene', 'threat', 'insult',\n",
       "       'identity_hate'],\n",
       "      dtype='object')"
      ]
     },
     "execution_count": 31,
     "metadata": {},
     "output_type": "execute_result"
    }
   ],
   "source": [
    "train_df.columns[2:]"
   ]
  },
  {
   "cell_type": "markdown",
   "id": "b541af46",
   "metadata": {
    "papermill": {
     "duration": 2.094961,
     "end_time": "2023-11-07T20:00:16.185425",
     "exception": false,
     "start_time": "2023-11-07T20:00:14.090464",
     "status": "completed"
    },
    "tags": []
   },
   "source": [
    "## Calculating Precision and Recall"
   ]
  },
  {
   "attachments": {
    "399a56d6-4f00-4008-9ae5-52aabeec9fbb.jpg": {
     "image/jpeg": "[encoded data removed]"
    }
   },
   "cell_type": "markdown",
   "id": "2b591247",
   "metadata": {
    "papermill": {
     "duration": 2.159158,
     "end_time": "2023-11-07T20:00:20.505247",
     "exception": false,
     "start_time": "2023-11-07T20:00:18.346089",
     "status": "completed"
    },
    "tags": []
   },
   "source": [
    "![Precision-Recall-Accuracy.jpg](attachment:399a56d6-4f00-4008-9ae5-52aabeec9fbb.jpg)"
   ]
  },
  {
   "cell_type": "code",
   "execution_count": 32,
   "id": "3b7a49ee",
   "metadata": {
    "execution": {
     "iopub.execute_input": "2023-11-07T20:00:24.892782Z",
     "iopub.status.busy": "2023-11-07T20:00:24.892437Z",
     "iopub.status.idle": "2023-11-07T20:00:24.904703Z",
     "shell.execute_reply": "2023-11-07T20:00:24.903982Z"
    },
    "papermill": {
     "duration": 2.154738,
     "end_time": "2023-11-07T20:00:24.906658",
     "exception": false,
     "start_time": "2023-11-07T20:00:22.751920",
     "status": "completed"
    },
    "tags": []
   },
   "outputs": [],
   "source": [
    "pre = Precision()\n",
    "re = Recall()"
   ]
  },
  {
   "cell_type": "code",
   "execution_count": 33,
   "id": "5980551d",
   "metadata": {
    "_kg_hide-output": false,
    "execution": {
     "iopub.execute_input": "2023-11-07T20:00:29.219601Z",
     "iopub.status.busy": "2023-11-07T20:00:29.219244Z",
     "iopub.status.idle": "2023-11-07T20:01:17.431394Z",
     "shell.execute_reply": "2023-11-07T20:01:17.430475Z"
    },
    "papermill": {
     "duration": 50.369034,
     "end_time": "2023-11-07T20:01:17.433374",
     "exception": false,
     "start_time": "2023-11-07T20:00:27.064340",
     "status": "completed"
    },
    "scrolled": true,
    "tags": []
   },
   "outputs": [
    {
     "name": "stdout",
     "output_type": "stream",
     "text": [
      "1/1 [==============================] - 0s 50ms/step\n",
      "1/1 [==============================] - 0s 50ms/step\n",
      "1/1 [==============================] - 0s 52ms/step\n",
      "1/1 [==============================] - 0s 50ms/step\n",
      "1/1 [==============================] - 0s 51ms/step\n",
      "1/1 [==============================] - 0s 50ms/step\n",
      "1/1 [==============================] - 0s 50ms/step\n",
      "1/1 [==============================] - 0s 50ms/step\n",
      "1/1 [==============================] - 0s 50ms/step\n",
      "1/1 [==============================] - 0s 49ms/step\n",
      "1/1 [==============================] - 0s 50ms/step\n",
      "1/1 [==============================] - 0s 49ms/step\n",
      "1/1 [==============================] - 0s 50ms/step\n",
      "1/1 [==============================] - 0s 52ms/step\n",
      "1/1 [==============================] - 0s 51ms/step\n",
      "1/1 [==============================] - 0s 51ms/step\n",
      "1/1 [==============================] - 0s 52ms/step\n",
      "1/1 [==============================] - 0s 66ms/step\n",
      "1/1 [==============================] - 0s 50ms/step\n",
      "1/1 [==============================] - 0s 50ms/step\n",
      "1/1 [==============================] - 0s 49ms/step\n",
      "1/1 [==============================] - 0s 51ms/step\n",
      "1/1 [==============================] - 0s 50ms/step\n",
      "1/1 [==============================] - 0s 51ms/step\n",
      "1/1 [==============================] - 0s 49ms/step\n",
      "1/1 [==============================] - 0s 52ms/step\n",
      "1/1 [==============================] - 0s 52ms/step\n",
      "1/1 [==============================] - 0s 51ms/step\n",
      "1/1 [==============================] - 0s 53ms/step\n",
      "1/1 [==============================] - 0s 51ms/step\n",
      "1/1 [==============================] - 0s 50ms/step\n",
      "1/1 [==============================] - 0s 50ms/step\n",
      "1/1 [==============================] - 0s 50ms/step\n",
      "1/1 [==============================] - 0s 50ms/step\n",
      "1/1 [==============================] - 0s 50ms/step\n",
      "1/1 [==============================] - 0s 50ms/step\n",
      "1/1 [==============================] - 0s 51ms/step\n",
      "1/1 [==============================] - 0s 51ms/step\n",
      "1/1 [==============================] - 0s 50ms/step\n",
      "1/1 [==============================] - 0s 65ms/step\n",
      "1/1 [==============================] - 0s 66ms/step\n",
      "1/1 [==============================] - 0s 65ms/step\n",
      "1/1 [==============================] - 0s 61ms/step\n",
      "1/1 [==============================] - 0s 51ms/step\n",
      "1/1 [==============================] - 0s 55ms/step\n",
      "1/1 [==============================] - 0s 58ms/step\n",
      "1/1 [==============================] - 0s 55ms/step\n",
      "1/1 [==============================] - 0s 55ms/step\n",
      "1/1 [==============================] - 0s 56ms/step\n",
      "1/1 [==============================] - 0s 54ms/step\n",
      "1/1 [==============================] - 0s 53ms/step\n",
      "1/1 [==============================] - 0s 52ms/step\n",
      "1/1 [==============================] - 0s 49ms/step\n",
      "1/1 [==============================] - 0s 49ms/step\n",
      "1/1 [==============================] - 0s 52ms/step\n",
      "1/1 [==============================] - 0s 50ms/step\n",
      "1/1 [==============================] - 0s 51ms/step\n",
      "1/1 [==============================] - 0s 50ms/step\n",
      "1/1 [==============================] - 0s 51ms/step\n",
      "1/1 [==============================] - 0s 50ms/step\n",
      "1/1 [==============================] - 0s 51ms/step\n",
      "1/1 [==============================] - 0s 50ms/step\n",
      "1/1 [==============================] - 0s 52ms/step\n",
      "1/1 [==============================] - 0s 49ms/step\n",
      "1/1 [==============================] - 0s 50ms/step\n",
      "1/1 [==============================] - 0s 50ms/step\n",
      "1/1 [==============================] - 0s 51ms/step\n",
      "1/1 [==============================] - 0s 51ms/step\n",
      "1/1 [==============================] - 0s 52ms/step\n",
      "1/1 [==============================] - 0s 50ms/step\n",
      "1/1 [==============================] - 0s 50ms/step\n",
      "1/1 [==============================] - 0s 52ms/step\n",
      "1/1 [==============================] - 0s 50ms/step\n",
      "1/1 [==============================] - 0s 50ms/step\n",
      "1/1 [==============================] - 0s 50ms/step\n",
      "1/1 [==============================] - 0s 53ms/step\n",
      "1/1 [==============================] - 0s 50ms/step\n",
      "1/1 [==============================] - 0s 52ms/step\n",
      "1/1 [==============================] - 0s 51ms/step\n",
      "1/1 [==============================] - 0s 50ms/step\n",
      "1/1 [==============================] - 0s 50ms/step\n",
      "1/1 [==============================] - 0s 51ms/step\n",
      "1/1 [==============================] - 0s 50ms/step\n",
      "1/1 [==============================] - 0s 51ms/step\n",
      "1/1 [==============================] - 0s 49ms/step\n",
      "1/1 [==============================] - 0s 51ms/step\n",
      "1/1 [==============================] - 0s 54ms/step\n",
      "1/1 [==============================] - 0s 50ms/step\n",
      "1/1 [==============================] - 0s 50ms/step\n",
      "1/1 [==============================] - 0s 52ms/step\n",
      "1/1 [==============================] - 0s 51ms/step\n",
      "1/1 [==============================] - 0s 52ms/step\n",
      "1/1 [==============================] - 0s 49ms/step\n",
      "1/1 [==============================] - 0s 50ms/step\n",
      "1/1 [==============================] - 0s 50ms/step\n",
      "1/1 [==============================] - 0s 51ms/step\n",
      "1/1 [==============================] - 0s 51ms/step\n",
      "1/1 [==============================] - 0s 50ms/step\n",
      "1/1 [==============================] - 0s 52ms/step\n",
      "1/1 [==============================] - 0s 51ms/step\n",
      "1/1 [==============================] - 0s 53ms/step\n",
      "1/1 [==============================] - 0s 49ms/step\n",
      "1/1 [==============================] - 0s 50ms/step\n",
      "1/1 [==============================] - 0s 51ms/step\n",
      "1/1 [==============================] - 0s 51ms/step\n",
      "1/1 [==============================] - 0s 51ms/step\n",
      "1/1 [==============================] - 0s 52ms/step\n",
      "1/1 [==============================] - 0s 51ms/step\n",
      "1/1 [==============================] - 0s 52ms/step\n",
      "1/1 [==============================] - 0s 52ms/step\n",
      "1/1 [==============================] - 0s 51ms/step\n",
      "1/1 [==============================] - 0s 53ms/step\n",
      "1/1 [==============================] - 0s 51ms/step\n",
      "1/1 [==============================] - 0s 50ms/step\n",
      "1/1 [==============================] - 0s 51ms/step\n",
      "1/1 [==============================] - 0s 51ms/step\n",
      "1/1 [==============================] - 0s 51ms/step\n",
      "1/1 [==============================] - 0s 53ms/step\n",
      "1/1 [==============================] - 0s 51ms/step\n",
      "1/1 [==============================] - 0s 50ms/step\n",
      "1/1 [==============================] - 0s 51ms/step\n",
      "1/1 [==============================] - 0s 51ms/step\n",
      "1/1 [==============================] - 0s 50ms/step\n",
      "1/1 [==============================] - 0s 50ms/step\n",
      "1/1 [==============================] - 0s 50ms/step\n",
      "1/1 [==============================] - 0s 50ms/step\n",
      "1/1 [==============================] - 0s 49ms/step\n",
      "1/1 [==============================] - 0s 53ms/step\n",
      "1/1 [==============================] - 0s 52ms/step\n",
      "1/1 [==============================] - 0s 50ms/step\n",
      "1/1 [==============================] - 0s 53ms/step\n",
      "1/1 [==============================] - 0s 52ms/step\n",
      "1/1 [==============================] - 0s 52ms/step\n",
      "1/1 [==============================] - 0s 58ms/step\n",
      "1/1 [==============================] - 0s 56ms/step\n",
      "1/1 [==============================] - 0s 55ms/step\n",
      "1/1 [==============================] - 0s 50ms/step\n",
      "1/1 [==============================] - 0s 50ms/step\n",
      "1/1 [==============================] - 0s 50ms/step\n",
      "1/1 [==============================] - 0s 50ms/step\n",
      "1/1 [==============================] - 0s 51ms/step\n",
      "1/1 [==============================] - 0s 52ms/step\n",
      "1/1 [==============================] - 0s 50ms/step\n",
      "1/1 [==============================] - 0s 50ms/step\n",
      "1/1 [==============================] - 0s 50ms/step\n",
      "1/1 [==============================] - 0s 50ms/step\n",
      "1/1 [==============================] - 0s 50ms/step\n",
      "1/1 [==============================] - 0s 51ms/step\n",
      "1/1 [==============================] - 0s 52ms/step\n",
      "1/1 [==============================] - 0s 51ms/step\n",
      "1/1 [==============================] - 0s 51ms/step\n",
      "1/1 [==============================] - 0s 50ms/step\n",
      "1/1 [==============================] - 0s 50ms/step\n",
      "1/1 [==============================] - 0s 49ms/step\n",
      "1/1 [==============================] - 0s 51ms/step\n",
      "1/1 [==============================] - 0s 51ms/step\n",
      "1/1 [==============================] - 0s 52ms/step\n",
      "1/1 [==============================] - 0s 51ms/step\n",
      "1/1 [==============================] - 0s 50ms/step\n",
      "1/1 [==============================] - 0s 50ms/step\n",
      "1/1 [==============================] - 0s 51ms/step\n",
      "1/1 [==============================] - 0s 51ms/step\n",
      "1/1 [==============================] - 0s 51ms/step\n",
      "1/1 [==============================] - 0s 50ms/step\n",
      "1/1 [==============================] - 0s 49ms/step\n",
      "1/1 [==============================] - 0s 51ms/step\n",
      "1/1 [==============================] - 0s 50ms/step\n",
      "1/1 [==============================] - 0s 51ms/step\n",
      "1/1 [==============================] - 0s 51ms/step\n",
      "1/1 [==============================] - 0s 51ms/step\n",
      "1/1 [==============================] - 0s 50ms/step\n",
      "1/1 [==============================] - 0s 54ms/step\n",
      "1/1 [==============================] - 0s 52ms/step\n",
      "1/1 [==============================] - 0s 52ms/step\n",
      "1/1 [==============================] - 0s 49ms/step\n",
      "1/1 [==============================] - 0s 50ms/step\n",
      "1/1 [==============================] - 0s 50ms/step\n",
      "1/1 [==============================] - 0s 50ms/step\n",
      "1/1 [==============================] - 0s 49ms/step\n",
      "1/1 [==============================] - 0s 49ms/step\n",
      "1/1 [==============================] - 0s 50ms/step\n",
      "1/1 [==============================] - 0s 50ms/step\n",
      "1/1 [==============================] - 0s 51ms/step\n",
      "1/1 [==============================] - 0s 50ms/step\n",
      "1/1 [==============================] - 0s 50ms/step\n",
      "1/1 [==============================] - 0s 49ms/step\n",
      "1/1 [==============================] - 0s 52ms/step\n",
      "1/1 [==============================] - 0s 51ms/step\n",
      "1/1 [==============================] - 0s 51ms/step\n",
      "1/1 [==============================] - 0s 49ms/step\n",
      "1/1 [==============================] - 0s 49ms/step\n",
      "1/1 [==============================] - 0s 50ms/step\n",
      "1/1 [==============================] - 0s 49ms/step\n",
      "1/1 [==============================] - 0s 50ms/step\n",
      "1/1 [==============================] - 0s 50ms/step\n",
      "1/1 [==============================] - 0s 50ms/step\n",
      "1/1 [==============================] - 0s 49ms/step\n",
      "1/1 [==============================] - 0s 50ms/step\n",
      "1/1 [==============================] - 0s 49ms/step\n",
      "1/1 [==============================] - 0s 50ms/step\n",
      "1/1 [==============================] - 0s 49ms/step\n",
      "1/1 [==============================] - 0s 49ms/step\n",
      "1/1 [==============================] - 0s 50ms/step\n",
      "1/1 [==============================] - 0s 50ms/step\n",
      "1/1 [==============================] - 0s 50ms/step\n",
      "1/1 [==============================] - 0s 50ms/step\n",
      "1/1 [==============================] - 0s 50ms/step\n",
      "1/1 [==============================] - 0s 50ms/step\n",
      "1/1 [==============================] - 0s 50ms/step\n",
      "1/1 [==============================] - 0s 49ms/step\n",
      "1/1 [==============================] - 0s 50ms/step\n",
      "1/1 [==============================] - 0s 51ms/step\n",
      "1/1 [==============================] - 0s 51ms/step\n",
      "1/1 [==============================] - 0s 51ms/step\n",
      "1/1 [==============================] - 0s 52ms/step\n",
      "1/1 [==============================] - 0s 51ms/step\n",
      "1/1 [==============================] - 0s 49ms/step\n",
      "1/1 [==============================] - 0s 49ms/step\n",
      "1/1 [==============================] - 0s 49ms/step\n",
      "1/1 [==============================] - 0s 49ms/step\n",
      "1/1 [==============================] - 0s 49ms/step\n",
      "1/1 [==============================] - 0s 50ms/step\n",
      "1/1 [==============================] - 0s 49ms/step\n",
      "1/1 [==============================] - 0s 52ms/step\n",
      "1/1 [==============================] - 0s 51ms/step\n",
      "1/1 [==============================] - 0s 55ms/step\n",
      "1/1 [==============================] - 0s 71ms/step\n",
      "1/1 [==============================] - 0s 50ms/step\n",
      "1/1 [==============================] - 0s 51ms/step\n",
      "1/1 [==============================] - 0s 50ms/step\n",
      "1/1 [==============================] - 0s 52ms/step\n",
      "1/1 [==============================] - 0s 50ms/step\n",
      "1/1 [==============================] - 0s 51ms/step\n",
      "1/1 [==============================] - 0s 51ms/step\n",
      "1/1 [==============================] - 0s 51ms/step\n",
      "1/1 [==============================] - 0s 51ms/step\n",
      "1/1 [==============================] - 0s 50ms/step\n",
      "1/1 [==============================] - 0s 50ms/step\n",
      "1/1 [==============================] - 0s 49ms/step\n",
      "1/1 [==============================] - 0s 52ms/step\n",
      "1/1 [==============================] - 0s 51ms/step\n",
      "1/1 [==============================] - 0s 49ms/step\n",
      "1/1 [==============================] - 0s 50ms/step\n",
      "1/1 [==============================] - 0s 49ms/step\n",
      "1/1 [==============================] - 0s 49ms/step\n",
      "1/1 [==============================] - 0s 49ms/step\n",
      "1/1 [==============================] - 0s 49ms/step\n",
      "1/1 [==============================] - 0s 50ms/step\n",
      "1/1 [==============================] - 0s 51ms/step\n",
      "1/1 [==============================] - 0s 50ms/step\n",
      "1/1 [==============================] - 0s 49ms/step\n",
      "1/1 [==============================] - 0s 50ms/step\n",
      "1/1 [==============================] - 0s 50ms/step\n",
      "1/1 [==============================] - 0s 49ms/step\n",
      "1/1 [==============================] - 0s 51ms/step\n",
      "1/1 [==============================] - 0s 51ms/step\n",
      "1/1 [==============================] - 0s 54ms/step\n",
      "1/1 [==============================] - 0s 59ms/step\n",
      "1/1 [==============================] - 0s 58ms/step\n",
      "1/1 [==============================] - 0s 56ms/step\n",
      "1/1 [==============================] - 0s 55ms/step\n",
      "1/1 [==============================] - 0s 51ms/step\n",
      "1/1 [==============================] - 0s 54ms/step\n",
      "1/1 [==============================] - 0s 52ms/step\n",
      "1/1 [==============================] - 0s 55ms/step\n",
      "1/1 [==============================] - 0s 52ms/step\n",
      "1/1 [==============================] - 0s 53ms/step\n",
      "1/1 [==============================] - 0s 50ms/step\n",
      "1/1 [==============================] - 0s 49ms/step\n",
      "1/1 [==============================] - 0s 50ms/step\n",
      "1/1 [==============================] - 0s 50ms/step\n",
      "1/1 [==============================] - 0s 52ms/step\n",
      "1/1 [==============================] - 0s 53ms/step\n",
      "1/1 [==============================] - 0s 51ms/step\n",
      "1/1 [==============================] - 0s 52ms/step\n",
      "1/1 [==============================] - 0s 51ms/step\n",
      "1/1 [==============================] - 0s 50ms/step\n",
      "1/1 [==============================] - 0s 50ms/step\n",
      "1/1 [==============================] - 0s 49ms/step\n",
      "1/1 [==============================] - 0s 51ms/step\n",
      "1/1 [==============================] - 0s 51ms/step\n",
      "1/1 [==============================] - 0s 50ms/step\n",
      "1/1 [==============================] - 0s 48ms/step\n",
      "1/1 [==============================] - 0s 49ms/step\n",
      "1/1 [==============================] - 0s 50ms/step\n",
      "1/1 [==============================] - 0s 49ms/step\n",
      "1/1 [==============================] - 0s 49ms/step\n",
      "1/1 [==============================] - 0s 49ms/step\n",
      "1/1 [==============================] - 0s 50ms/step\n",
      "1/1 [==============================] - 0s 48ms/step\n",
      "1/1 [==============================] - 0s 49ms/step\n",
      "1/1 [==============================] - 0s 49ms/step\n",
      "1/1 [==============================] - 0s 49ms/step\n",
      "1/1 [==============================] - 0s 49ms/step\n",
      "1/1 [==============================] - 0s 50ms/step\n",
      "1/1 [==============================] - 0s 49ms/step\n",
      "1/1 [==============================] - 0s 50ms/step\n",
      "1/1 [==============================] - 0s 50ms/step\n",
      "1/1 [==============================] - 0s 49ms/step\n",
      "1/1 [==============================] - 0s 49ms/step\n",
      "1/1 [==============================] - 0s 48ms/step\n",
      "1/1 [==============================] - 0s 49ms/step\n",
      "1/1 [==============================] - 0s 48ms/step\n",
      "1/1 [==============================] - 0s 49ms/step\n",
      "1/1 [==============================] - 0s 49ms/step\n",
      "1/1 [==============================] - 0s 49ms/step\n",
      "1/1 [==============================] - 0s 50ms/step\n",
      "1/1 [==============================] - 0s 52ms/step\n",
      "1/1 [==============================] - 0s 61ms/step\n",
      "1/1 [==============================] - 0s 55ms/step\n",
      "1/1 [==============================] - 0s 50ms/step\n",
      "1/1 [==============================] - 0s 50ms/step\n",
      "1/1 [==============================] - 0s 49ms/step\n",
      "1/1 [==============================] - 0s 50ms/step\n",
      "1/1 [==============================] - 0s 54ms/step\n",
      "1/1 [==============================] - 0s 54ms/step\n",
      "1/1 [==============================] - 0s 54ms/step\n",
      "1/1 [==============================] - 0s 58ms/step\n",
      "1/1 [==============================] - 0s 53ms/step\n",
      "1/1 [==============================] - 0s 55ms/step\n",
      "1/1 [==============================] - 0s 63ms/step\n",
      "1/1 [==============================] - 0s 55ms/step\n",
      "1/1 [==============================] - 0s 51ms/step\n",
      "1/1 [==============================] - 0s 49ms/step\n",
      "1/1 [==============================] - 0s 54ms/step\n",
      "1/1 [==============================] - 0s 61ms/step\n",
      "1/1 [==============================] - 0s 63ms/step\n",
      "1/1 [==============================] - 0s 63ms/step\n",
      "1/1 [==============================] - 0s 64ms/step\n",
      "1/1 [==============================] - 0s 73ms/step\n",
      "1/1 [==============================] - 0s 66ms/step\n",
      "1/1 [==============================] - 0s 59ms/step\n",
      "1/1 [==============================] - 0s 51ms/step\n",
      "1/1 [==============================] - 0s 57ms/step\n",
      "1/1 [==============================] - 0s 49ms/step\n",
      "1/1 [==============================] - 0s 49ms/step\n",
      "1/1 [==============================] - 0s 52ms/step\n",
      "1/1 [==============================] - 0s 50ms/step\n",
      "1/1 [==============================] - 0s 50ms/step\n",
      "1/1 [==============================] - 0s 52ms/step\n",
      "1/1 [==============================] - 0s 49ms/step\n",
      "1/1 [==============================] - 0s 49ms/step\n",
      "1/1 [==============================] - 0s 48ms/step\n",
      "1/1 [==============================] - 0s 48ms/step\n",
      "1/1 [==============================] - 0s 50ms/step\n",
      "1/1 [==============================] - 0s 51ms/step\n",
      "1/1 [==============================] - 0s 49ms/step\n",
      "1/1 [==============================] - 0s 49ms/step\n",
      "1/1 [==============================] - 0s 48ms/step\n",
      "1/1 [==============================] - 0s 50ms/step\n",
      "1/1 [==============================] - 0s 49ms/step\n",
      "1/1 [==============================] - 0s 49ms/step\n",
      "1/1 [==============================] - 0s 49ms/step\n",
      "1/1 [==============================] - 0s 49ms/step\n",
      "1/1 [==============================] - 0s 50ms/step\n",
      "1/1 [==============================] - 0s 50ms/step\n",
      "1/1 [==============================] - 0s 50ms/step\n",
      "1/1 [==============================] - 0s 50ms/step\n",
      "1/1 [==============================] - 0s 50ms/step\n",
      "1/1 [==============================] - 0s 49ms/step\n",
      "1/1 [==============================] - 0s 50ms/step\n",
      "1/1 [==============================] - 0s 50ms/step\n",
      "1/1 [==============================] - 0s 49ms/step\n",
      "1/1 [==============================] - 0s 50ms/step\n",
      "1/1 [==============================] - 0s 50ms/step\n",
      "1/1 [==============================] - 0s 50ms/step\n",
      "1/1 [==============================] - 0s 52ms/step\n",
      "1/1 [==============================] - 0s 59ms/step\n",
      "1/1 [==============================] - 0s 59ms/step\n",
      "1/1 [==============================] - 0s 51ms/step\n",
      "1/1 [==============================] - 0s 57ms/step\n",
      "1/1 [==============================] - 0s 55ms/step\n",
      "1/1 [==============================] - 0s 50ms/step\n",
      "1/1 [==============================] - 0s 49ms/step\n",
      "1/1 [==============================] - 0s 56ms/step\n",
      "1/1 [==============================] - 0s 49ms/step\n",
      "1/1 [==============================] - 0s 56ms/step\n",
      "1/1 [==============================] - 0s 51ms/step\n",
      "1/1 [==============================] - 0s 51ms/step\n",
      "1/1 [==============================] - 0s 48ms/step\n",
      "1/1 [==============================] - 0s 50ms/step\n",
      "1/1 [==============================] - 0s 50ms/step\n",
      "1/1 [==============================] - 0s 49ms/step\n",
      "1/1 [==============================] - 0s 49ms/step\n",
      "1/1 [==============================] - 0s 49ms/step\n",
      "1/1 [==============================] - 0s 49ms/step\n",
      "1/1 [==============================] - 0s 49ms/step\n",
      "1/1 [==============================] - 0s 49ms/step\n",
      "1/1 [==============================] - 0s 48ms/step\n",
      "1/1 [==============================] - 0s 52ms/step\n",
      "1/1 [==============================] - 0s 49ms/step\n",
      "1/1 [==============================] - 0s 51ms/step\n",
      "1/1 [==============================] - 0s 50ms/step\n",
      "1/1 [==============================] - 0s 50ms/step\n",
      "1/1 [==============================] - 0s 50ms/step\n",
      "1/1 [==============================] - 0s 51ms/step\n",
      "1/1 [==============================] - 0s 50ms/step\n",
      "1/1 [==============================] - 0s 50ms/step\n",
      "1/1 [==============================] - 0s 49ms/step\n",
      "1/1 [==============================] - 0s 49ms/step\n",
      "1/1 [==============================] - 0s 50ms/step\n",
      "1/1 [==============================] - 0s 49ms/step\n",
      "1/1 [==============================] - 0s 49ms/step\n",
      "1/1 [==============================] - 0s 50ms/step\n",
      "1/1 [==============================] - 0s 49ms/step\n",
      "1/1 [==============================] - 0s 52ms/step\n",
      "1/1 [==============================] - 0s 50ms/step\n",
      "1/1 [==============================] - 0s 50ms/step\n",
      "1/1 [==============================] - 0s 50ms/step\n",
      "1/1 [==============================] - 0s 50ms/step\n",
      "1/1 [==============================] - 0s 50ms/step\n",
      "1/1 [==============================] - 0s 49ms/step\n",
      "1/1 [==============================] - 0s 49ms/step\n",
      "1/1 [==============================] - 0s 49ms/step\n",
      "1/1 [==============================] - 0s 50ms/step\n",
      "1/1 [==============================] - 0s 49ms/step\n",
      "1/1 [==============================] - 0s 49ms/step\n",
      "1/1 [==============================] - 0s 49ms/step\n",
      "1/1 [==============================] - 0s 49ms/step\n",
      "1/1 [==============================] - 0s 49ms/step\n",
      "1/1 [==============================] - 0s 50ms/step\n",
      "1/1 [==============================] - 0s 50ms/step\n",
      "1/1 [==============================] - 0s 49ms/step\n",
      "1/1 [==============================] - 0s 49ms/step\n",
      "1/1 [==============================] - 0s 49ms/step\n",
      "1/1 [==============================] - 0s 49ms/step\n",
      "1/1 [==============================] - 0s 51ms/step\n",
      "1/1 [==============================] - 0s 49ms/step\n",
      "1/1 [==============================] - 0s 49ms/step\n",
      "1/1 [==============================] - 0s 50ms/step\n",
      "1/1 [==============================] - 0s 49ms/step\n",
      "1/1 [==============================] - 0s 51ms/step\n",
      "1/1 [==============================] - 0s 50ms/step\n",
      "1/1 [==============================] - 0s 48ms/step\n",
      "1/1 [==============================] - 0s 50ms/step\n",
      "1/1 [==============================] - 0s 55ms/step\n",
      "1/1 [==============================] - 0s 51ms/step\n",
      "1/1 [==============================] - 0s 51ms/step\n",
      "1/1 [==============================] - 0s 50ms/step\n",
      "1/1 [==============================] - 0s 51ms/step\n",
      "1/1 [==============================] - 0s 52ms/step\n",
      "1/1 [==============================] - 0s 51ms/step\n",
      "1/1 [==============================] - 0s 51ms/step\n",
      "1/1 [==============================] - 0s 51ms/step\n",
      "1/1 [==============================] - 0s 50ms/step\n",
      "1/1 [==============================] - 0s 51ms/step\n",
      "1/1 [==============================] - 0s 50ms/step\n",
      "1/1 [==============================] - 0s 50ms/step\n",
      "1/1 [==============================] - 0s 50ms/step\n",
      "1/1 [==============================] - 0s 50ms/step\n",
      "1/1 [==============================] - 0s 50ms/step\n",
      "1/1 [==============================] - 0s 49ms/step\n",
      "1/1 [==============================] - 0s 49ms/step\n",
      "1/1 [==============================] - 0s 52ms/step\n",
      "1/1 [==============================] - 0s 50ms/step\n",
      "1/1 [==============================] - 0s 49ms/step\n",
      "1/1 [==============================] - 0s 50ms/step\n",
      "1/1 [==============================] - 0s 48ms/step\n",
      "1/1 [==============================] - 0s 49ms/step\n",
      "1/1 [==============================] - 0s 48ms/step\n",
      "1/1 [==============================] - 0s 50ms/step\n",
      "1/1 [==============================] - 0s 49ms/step\n",
      "1/1 [==============================] - 0s 50ms/step\n",
      "1/1 [==============================] - 0s 50ms/step\n",
      "1/1 [==============================] - 0s 53ms/step\n",
      "1/1 [==============================] - 0s 50ms/step\n",
      "1/1 [==============================] - 0s 50ms/step\n",
      "1/1 [==============================] - 0s 49ms/step\n",
      "1/1 [==============================] - 0s 49ms/step\n",
      "1/1 [==============================] - 0s 49ms/step\n",
      "1/1 [==============================] - 0s 49ms/step\n",
      "1/1 [==============================] - 0s 49ms/step\n",
      "1/1 [==============================] - 0s 50ms/step\n",
      "1/1 [==============================] - 0s 50ms/step\n",
      "1/1 [==============================] - 0s 50ms/step\n",
      "1/1 [==============================] - 0s 50ms/step\n",
      "1/1 [==============================] - 0s 50ms/step\n",
      "1/1 [==============================] - 0s 49ms/step\n",
      "1/1 [==============================] - 0s 50ms/step\n",
      "1/1 [==============================] - 0s 49ms/step\n",
      "1/1 [==============================] - 0s 50ms/step\n",
      "1/1 [==============================] - 0s 49ms/step\n",
      "1/1 [==============================] - 0s 49ms/step\n",
      "1/1 [==============================] - 0s 50ms/step\n",
      "1/1 [==============================] - 0s 49ms/step\n",
      "1/1 [==============================] - 0s 50ms/step\n",
      "1/1 [==============================] - 0s 51ms/step\n",
      "1/1 [==============================] - 0s 51ms/step\n",
      "1/1 [==============================] - 0s 50ms/step\n",
      "1/1 [==============================] - 0s 49ms/step\n",
      "1/1 [==============================] - 0s 50ms/step\n",
      "1/1 [==============================] - 0s 50ms/step\n",
      "1/1 [==============================] - 0s 49ms/step\n",
      "1/1 [==============================] - 0s 49ms/step\n",
      "1/1 [==============================] - 0s 49ms/step\n",
      "1/1 [==============================] - 0s 51ms/step\n",
      "1/1 [==============================] - 0s 51ms/step\n",
      "1/1 [==============================] - 0s 49ms/step\n"
     ]
    }
   ],
   "source": [
    "for batch in test.as_numpy_iterator():\n",
    "    # unpack the batch\n",
    "    X_test, y_test = batch\n",
    "    # make a prediction\n",
    "    y_pred = model.predict(X_test)\n",
    "    \n",
    "    y_test = y_test.flatten()\n",
    "    y_pred = y_pred.flatten()\n",
    "    \n",
    "    pre.update_state(y_test, y_pred)\n",
    "    re.update_state(y_test, y_pred)"
   ]
  },
  {
   "cell_type": "code",
   "execution_count": 34,
   "id": "c7f71239",
   "metadata": {
    "execution": {
     "iopub.execute_input": "2023-11-07T20:01:21.940039Z",
     "iopub.status.busy": "2023-11-07T20:01:21.939160Z",
     "iopub.status.idle": "2023-11-07T20:01:21.950640Z",
     "shell.execute_reply": "2023-11-07T20:01:21.949660Z"
    },
    "papermill": {
     "duration": 2.342729,
     "end_time": "2023-11-07T20:01:21.952579",
     "exception": false,
     "start_time": "2023-11-07T20:01:19.609850",
     "status": "completed"
    },
    "tags": []
   },
   "outputs": [
    {
     "name": "stdout",
     "output_type": "stream",
     "text": [
      "Precision: 0.8897832632064819, Recall:0.7978900671005249\n"
     ]
    }
   ],
   "source": [
    "print(f'Precision: {pre.result().numpy()}, Recall:{re.result().numpy()}')\n"
   ]
  },
  {
   "cell_type": "code",
   "execution_count": null,
   "id": "7a5b1af2",
   "metadata": {
    "papermill": {
     "duration": 2.285018,
     "end_time": "2023-11-07T20:01:26.429934",
     "exception": false,
     "start_time": "2023-11-07T20:01:24.144916",
     "status": "completed"
    },
    "tags": []
   },
   "outputs": [],
   "source": []
  }
 ],
 "metadata": {
  "kernelspec": {
   "display_name": "Python 3",
   "language": "python",
   "name": "python3"
  },
  "language_info": {
   "codemirror_mode": {
    "name": "ipython",
    "version": 3
   },
   "file_extension": ".py",
   "mimetype": "text/x-python",
   "name": "python",
   "nbconvert_exporter": "python",
   "pygments_lexer": "ipython3",
   "version": "3.10.12"
  },
  "papermill": {
   "default_parameters": {},
   "duration": 2478.57523,
   "end_time": "2023-11-07T20:01:31.772361",
   "environment_variables": {},
   "exception": null,
   "input_path": "__notebook__.ipynb",
   "output_path": "__notebook__.ipynb",
   "parameters": {},
   "start_time": "2023-11-07T19:20:13.197131",
   "version": "2.4.0"
  }
 },
 "nbformat": 4,
 "nbformat_minor": 5
}
